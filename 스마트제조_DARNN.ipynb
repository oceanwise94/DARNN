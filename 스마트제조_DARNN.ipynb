{
  "nbformat": 4,
  "nbformat_minor": 0,
  "metadata": {
    "colab": {
      "name": "스마트제조_DARNN.ipynb",
      "provenance": [],
      "collapsed_sections": [],
      "mount_file_id": "1LevF-ohsCbXOvPd6VUMhWmh4IueBEDgS",
      "authorship_tag": "ABX9TyNlO6TgIfNG2mUekU57wCj/",
      "include_colab_link": true
    },
    "kernelspec": {
      "name": "python3",
      "display_name": "Python 3"
    },
    "language_info": {
      "name": "python"
    }
  },
  "cells": [
    {
      "cell_type": "markdown",
      "metadata": {
        "id": "view-in-github",
        "colab_type": "text"
      },
      "source": [
        "<a href=\"https://colab.research.google.com/github/oceanwise94/DARNN/blob/master/%EC%8A%A4%EB%A7%88%ED%8A%B8%EC%A0%9C%EC%A1%B0_DARNN.ipynb\" target=\"_parent\"><img src=\"https://colab.research.google.com/assets/colab-badge.svg\" alt=\"Open In Colab\"/></a>"
      ]
    },
    {
      "cell_type": "code",
      "metadata": {
        "id": "OUrNX9j2DNVH"
      },
      "source": [
        "import os\n",
        "import numpy as np\n",
        "import tensorflow as tf\n",
        "import matplotlib.pyplot as plt\n",
        "import pandas as pd\n",
        "import matplotlib.font_manager as fm\n",
        "from matplotlib import rc\n",
        "from tensorflow.keras.layers import *\n",
        "from tensorflow.keras.models import Model\n",
        "\n",
        "\n",
        "%matplotlib inline"
      ],
      "execution_count": 1,
      "outputs": []
    },
    {
      "cell_type": "code",
      "metadata": {
        "id": "HLrIx47CCQ2A"
      },
      "source": [
        "os.chdir(r\"/content/drive/MyDrive/1.모델링자료/0.샘플데이터/회귀/시계열/스마트제조\")"
      ],
      "execution_count": 2,
      "outputs": []
    },
    {
      "cell_type": "code",
      "metadata": {
        "id": "ztU1nRJgCUon"
      },
      "source": [
        "data = pd.read_excel(\"Dataset_temp 90.xlsx\")"
      ],
      "execution_count": 3,
      "outputs": []
    },
    {
      "cell_type": "code",
      "metadata": {
        "id": "IT2mNK8lC83e"
      },
      "source": [
        "data = data.drop(['Time stamp','Predicted Diameter\\nDiameter (mm)','Target Velocity\\nSpool Rev/Sec'],axis=1)"
      ],
      "execution_count": 4,
      "outputs": []
    },
    {
      "cell_type": "code",
      "metadata": {
        "id": "AmBffrNYGgs2"
      },
      "source": [
        "data.columns = ['x1','x2','y']\n",
        "basic_columns = data.columns"
      ],
      "execution_count": 5,
      "outputs": []
    },
    {
      "cell_type": "code",
      "metadata": {
        "id": "bOhflZnTEYO-"
      },
      "source": [
        "for x in ['x1','x2']:\n",
        "    mean, std = data.agg([\"mean\", \"std\"]).loc[:, x]\n",
        "    data[x] = (data[x] - mean) / std"
      ],
      "execution_count": 6,
      "outputs": []
    },
    {
      "cell_type": "code",
      "metadata": {
        "id": "k4aB938vVCdw"
      },
      "source": [
        "data_x = data.loc[:, \"x1\":\"x2\"]\n",
        "data_y = data.loc[:, \"y\"]"
      ],
      "execution_count": 7,
      "outputs": []
    },
    {
      "cell_type": "code",
      "metadata": {
        "id": "ku2xHWSqG534",
        "colab": {
          "base_uri": "https://localhost:8080/",
          "height": 335
        },
        "outputId": "23c06593-5cb6-41b4-d67d-cd49b62ab53b"
      },
      "source": [
        "data.head(10)"
      ],
      "execution_count": 8,
      "outputs": [
        {
          "output_type": "execute_result",
          "data": {
            "text/html": [
              "<div>\n",
              "<style scoped>\n",
              "    .dataframe tbody tr th:only-of-type {\n",
              "        vertical-align: middle;\n",
              "    }\n",
              "\n",
              "    .dataframe tbody tr th {\n",
              "        vertical-align: top;\n",
              "    }\n",
              "\n",
              "    .dataframe thead th {\n",
              "        text-align: right;\n",
              "    }\n",
              "</style>\n",
              "<table border=\"1\" class=\"dataframe\">\n",
              "  <thead>\n",
              "    <tr style=\"text-align: right;\">\n",
              "      <th></th>\n",
              "      <th>x1</th>\n",
              "      <th>x2</th>\n",
              "      <th>y</th>\n",
              "    </tr>\n",
              "  </thead>\n",
              "  <tbody>\n",
              "    <tr>\n",
              "      <th>0</th>\n",
              "      <td>-0.909015</td>\n",
              "      <td>0.328266</td>\n",
              "      <td>0.559985</td>\n",
              "    </tr>\n",
              "    <tr>\n",
              "      <th>1</th>\n",
              "      <td>-0.909015</td>\n",
              "      <td>0.720942</td>\n",
              "      <td>0.559985</td>\n",
              "    </tr>\n",
              "    <tr>\n",
              "      <th>2</th>\n",
              "      <td>-0.909015</td>\n",
              "      <td>0.720942</td>\n",
              "      <td>0.559985</td>\n",
              "    </tr>\n",
              "    <tr>\n",
              "      <th>3</th>\n",
              "      <td>-0.909015</td>\n",
              "      <td>0.720942</td>\n",
              "      <td>0.546315</td>\n",
              "    </tr>\n",
              "    <tr>\n",
              "      <th>4</th>\n",
              "      <td>-0.909015</td>\n",
              "      <td>1.113606</td>\n",
              "      <td>0.546315</td>\n",
              "    </tr>\n",
              "    <tr>\n",
              "      <th>5</th>\n",
              "      <td>-0.909015</td>\n",
              "      <td>0.720942</td>\n",
              "      <td>0.546315</td>\n",
              "    </tr>\n",
              "    <tr>\n",
              "      <th>6</th>\n",
              "      <td>-0.909015</td>\n",
              "      <td>0.720942</td>\n",
              "      <td>0.546315</td>\n",
              "    </tr>\n",
              "    <tr>\n",
              "      <th>7</th>\n",
              "      <td>-0.909015</td>\n",
              "      <td>0.328266</td>\n",
              "      <td>0.546315</td>\n",
              "    </tr>\n",
              "    <tr>\n",
              "      <th>8</th>\n",
              "      <td>0.296299</td>\n",
              "      <td>-0.457061</td>\n",
              "      <td>0.546315</td>\n",
              "    </tr>\n",
              "    <tr>\n",
              "      <th>9</th>\n",
              "      <td>1.502443</td>\n",
              "      <td>-0.849737</td>\n",
              "      <td>0.532645</td>\n",
              "    </tr>\n",
              "  </tbody>\n",
              "</table>\n",
              "</div>"
            ],
            "text/plain": [
              "         x1        x2         y\n",
              "0 -0.909015  0.328266  0.559985\n",
              "1 -0.909015  0.720942  0.559985\n",
              "2 -0.909015  0.720942  0.559985\n",
              "3 -0.909015  0.720942  0.546315\n",
              "4 -0.909015  1.113606  0.546315\n",
              "5 -0.909015  0.720942  0.546315\n",
              "6 -0.909015  0.720942  0.546315\n",
              "7 -0.909015  0.328266  0.546315\n",
              "8  0.296299 -0.457061  0.546315\n",
              "9  1.502443 -0.849737  0.532645"
            ]
          },
          "metadata": {
            "tags": []
          },
          "execution_count": 8
        }
      ]
    },
    {
      "cell_type": "code",
      "metadata": {
        "id": "aCgJkH6CE-S2"
      },
      "source": [
        "# RNN 모델에 입력 할 수 있는 시계열 형태로 데이터 변환\n",
        "# sequence 길이 5\n",
        "interval = 5\n",
        "encoder_list = []\n",
        "decoder_list = []\n",
        "target_list = []"
      ],
      "execution_count": 9,
      "outputs": []
    },
    {
      "cell_type": "code",
      "metadata": {
        "id": "-nVrjyp9HC92"
      },
      "source": [
        "interval = 5\n",
        "encoder_list = []\n",
        "decoder_list = []\n",
        "target_list = []\n",
        "for i in range(1, data_x.shape[0] - interval):\n",
        "    encoder_list.append(np.array(data_x.iloc[i : i + interval]))\n",
        "    decoder_list.append(np.array(data_y.iloc[i : i + interval - 1]))\n",
        "    target_list.append(data_y.iloc[i + interval])"
      ],
      "execution_count": 10,
      "outputs": []
    },
    {
      "cell_type": "code",
      "metadata": {
        "id": "abalJbvMH4_2"
      },
      "source": [
        "encoder_sequence = np.array(encoder_list)\n",
        "decoder_sequence = np.array(decoder_list)\n",
        "decoder_sequence = np.reshape(decoder_sequence, (-1, 4, 1))\n",
        "target = np.array(target_list)"
      ],
      "execution_count": 11,
      "outputs": []
    },
    {
      "cell_type": "code",
      "metadata": {
        "id": "M1lAar7YI7PO"
      },
      "source": [
        "T = 5\n",
        "m = 32\n",
        "p = 32\n",
        "train_num = 794 # 200개 test\n",
        "batch_size = 16"
      ],
      "execution_count": 12,
      "outputs": []
    },
    {
      "cell_type": "code",
      "metadata": {
        "id": "GwlXbk00JXKH"
      },
      "source": [
        "enc_data = encoder_sequence\n",
        "dec_data = decoder_sequence\n",
        "target = target"
      ],
      "execution_count": 13,
      "outputs": []
    },
    {
      "cell_type": "code",
      "metadata": {
        "id": "_Dt3BXBeJiHu",
        "colab": {
          "base_uri": "https://localhost:8080/"
        },
        "outputId": "a1923844-7c34-41a6-a566-55a8b3b2eefe"
      },
      "source": [
        "enc_data.shape, dec_data.shape, target.shape"
      ],
      "execution_count": 14,
      "outputs": [
        {
          "output_type": "execute_result",
          "data": {
            "text/plain": [
              "((994, 5, 2), (994, 4, 1), (994,))"
            ]
          },
          "metadata": {
            "tags": []
          },
          "execution_count": 14
        }
      ]
    },
    {
      "cell_type": "code",
      "metadata": {
        "id": "XM8hK6x2Jjxn"
      },
      "source": [
        "class Encoderlstm(Layer):\n",
        "    def __init__(self,m):\n",
        "        '''\n",
        "        m : lstm features num\n",
        "        '''\n",
        "        super(Encoderlstm,self).__init__(name='encoder_lstm')\n",
        "        self.lstm = LSTM(m, return_state=True)\n",
        "        self.initial_state = None\n",
        "\n",
        "    def call(self,x, training=False):\n",
        "        '''\n",
        "        x : t번째 input data (shape = batch,1,n)\n",
        "        '''\n",
        "        h_s, _, c_s = self.lstm(x,initial_state = self.initial_state)\n",
        "        self.initial_state = [h_s,c_s]\n",
        "        return h_s,c_s\n",
        "    \n",
        "    def reset_state(self, h0, c0):\n",
        "        self.initial_state = [h0,c0]\n",
        "\n",
        "class InputAttention(Layer):\n",
        "    def __init__(self,T):\n",
        "        super(InputAttention,self).__init__(name = \"input_attention\")\n",
        "        self.w1 = Dense(T)\n",
        "        self.w2 = Dense(T)\n",
        "        self.v = Dense(1)\n",
        "\n",
        "    def call(self, h_s, c_s, x):\n",
        "        \"\"\"\n",
        "        h_s : hidden_state shape = batch, m\n",
        "        c_s : cell_state shape = batch,m\n",
        "        x : time series encoder inputs shape = batch,T,n\n",
        "        \"\"\"\n",
        "        query = tf.concat([h_s,c_s],axis=-1) # batch,m*2\n",
        "        query = RepeatVector(x.shape[2])(query) # batch,n,m*2\n",
        "        x_perm = Permute((2,1))(x) # batch,n,T\n",
        "        score = tf.nn.tanh(self.w1(x_perm) + self.w2(query)) # batch,n,T\n",
        "        score = self.v(score) # batch,n,1\n",
        "        score = Permute((2,1))(score) # batch,1,n\n",
        "        attention_weigths = tf.nn.softmax(score) # t번째 time step일 때 각 feature별 중요도\n",
        "        return attention_weigths\n",
        "\n",
        "\n",
        "class Encoder(Layer):\n",
        "    def __init__(self,T,m):\n",
        "        super(Encoder,self).__init__(name = 'encoder')\n",
        "        self.T = T\n",
        "        self.input_att = InputAttention(T)\n",
        "        self.lstm = Encoderlstm(m)\n",
        "        self.alpha_t = None\n",
        "    \n",
        "    def call(self,data,h0,c0,n=2,training=False):\n",
        "        '''\n",
        "        data : encoder data (shape = batch,T,n)\n",
        "        n : data features num\n",
        "        '''\n",
        "        self.lstm.reset_state(h0=h0,c0=c0)\n",
        "        alpha_seq = tf.TensorArray(tf.float32,self.T)\n",
        "        for t in range(self.T):\n",
        "            x = Lambda(lambda x:data[:,t,:])(data) # batch,n\n",
        "            x = x[:,tf.newaxis,:] # batch,1,n\n",
        "            h_s,c_s = self.lstm(x)\n",
        "            self.alpha_t = self.input_att(h_s,c_s,data) # batch,1,n\n",
        "            alpha_seq = alpha_seq.write(t, self.alpha_t)\n",
        "        alpha_seq = tf.reshape(alpha_seq.stack(), (-1,self.T,n)) # batch,T,n\n",
        "        output = tf.multiply(data,alpha_seq) # batch,T,n\n",
        "        return output\n",
        "\n",
        "class Decoderlstm(Layer):\n",
        "    def __init__(self,p):\n",
        "        '''\n",
        "        p : decoder lstm feature dim\n",
        "        '''\n",
        "        super(Decoderlstm,self).__init__(name = 'decoder_lstm')\n",
        "        self.lstm = LSTM(p, return_state=True)\n",
        "        self.initial_state = None\n",
        "    \n",
        "    def call(self,x,training=False):\n",
        "        '''\n",
        "        x. : t번째 input data (shape = batch,1,1)\n",
        "        '''\n",
        "        h_s,_,c_s = self.lstm(x,initial_state = self.initial_state)\n",
        "        self.initial_state = [h_s,c_s]\n",
        "        return h_s,c_s\n",
        "\n",
        "    def reset_state(self,h0,c0):\n",
        "        self.initial_state = [h0,c0]\n",
        "\n",
        "\n",
        "class TemporalAttention(Layer):\n",
        "    def __init__(self, m):\n",
        "        super(TemporalAttention, self).__init__(name = 'temporal_attention')\n",
        "        self.w1 = Dense(m)\n",
        "        self.w2 = Dense(m)\n",
        "        self.v = Dense(1)\n",
        "\n",
        "    def call(self,h_s,c_s,enc_h):\n",
        "        '''\n",
        "        h_s : decoder hidden state : shape = batch,p\n",
        "        c_s : decodercell state : shape = batch,p\n",
        "        enc_h : shape = batch,T,m\n",
        "        '''\n",
        "        query = tf.concat([h_s,c_s],axis=-1) # batch, 2*p\n",
        "        query = RepeatVector(enc_h.shape[1])(query) # batch, T, 2*p\n",
        "        score = tf.nn.tanh(self.w1(enc_h) + self.w2(query)) # batch, T, m\n",
        "        score = self.v(score)\n",
        "        attention_weights = tf.nn.softmax(score, axis = 1) # encoder hidden state h(i)의 중요성을 나타낸다. (0<=i<=T)\n",
        "        return attention_weights\n",
        "\n",
        "\n",
        "class Decoder(Layer):\n",
        "    def __init__(self,T,p,m):\n",
        "        super(Decoder,self).__init__(name = 'decoder')\n",
        "        self.T = T\n",
        "        self.temp_att = TemporalAttention(m)\n",
        "        self.dense = Dense(1)\n",
        "        self.lstm = Decoderlstm(p)\n",
        "        self.enc_lstm_dim = m\n",
        "        self.dec_lstm_dim = p\n",
        "        self.context_v = None\n",
        "        self.dec_h_s = None\n",
        "        self.beta_t = None\n",
        "    \n",
        "    def call(self,data,enc_h,h0 = None, c0 = None, training=False):\n",
        "        '''\n",
        "        data : decoder data (shape = batch,T-1,1)\n",
        "        enc_h : encoder hidden state (shape = batch,T,m)\n",
        "        '''\n",
        "        self.lstm.reset_state(h0=h0,c0=c0)\n",
        "        self.context_v = tf.zeros((tf.shape(enc_h)[0],1,self.enc_lstm_dim)) # batch,1,m+!\n",
        "        for t in range(self.T-1):\n",
        "            x = Lambda(lambda x: data[:,t,:])(data) # batch,1\n",
        "            x = x[:,tf.newaxis,:] # batch,1,1\n",
        "            x = tf.concat([x,self.context_v],axis=-1) # batch, 1, m+1\n",
        "            x = self.dense(x) # batch, 1, 1\n",
        "            h_s,c_s = self.lstm(x) # batch,p\n",
        "            self.beta_t = self.temp_att(h_s,c_s,enc_h) # batch, T, 1\n",
        "            self.context_v = tf.matmul(self.beta_t,enc_h,transpose_a=True) # batch,1,m\n",
        "        \n",
        "        return tf.concat([h_s[:,tf.newaxis,:],self.context_v],axis=-1) # batch,1,m+p\n",
        "\n",
        "\n",
        "class DARNN(Model):\n",
        "    def __init__(self,T,m,p):\n",
        "        super(DARNN,self).__init__(name = 'DARNN')\n",
        "        '''\n",
        "        T : sequence 길이\n",
        "        m : encoder lstm features\n",
        "        p : decoder lstm features\n",
        "        '''\n",
        "        self.m = m\n",
        "        self.encoder = Encoder(T=T, m=m)\n",
        "        self.decoder = Decoder(T = T,p=p,m=m)\n",
        "        self.lstm = LSTM(m,return_sequences=True)\n",
        "        self.dense1 = Dense(p)\n",
        "        self.dense2 = Dense(1)\n",
        "    \n",
        "    def call(self,inputs, training=False, mask=None):\n",
        "        '''\n",
        "        inputs : [enc,dec]\n",
        "        enc_data : batch,T,n\n",
        "        dec_data : batch,T-1,1\n",
        "        '''\n",
        "        enc_data, dec_data = inputs\n",
        "        batch = tf.shape(enc_data)[0]\n",
        "        h0 = tf.zeros((batch,self.m))\n",
        "        c0 = tf.zeros((batch,self.m))\n",
        "        enc_output = self.encoder(enc_data,  n=2, h0=h0, c0=c0,training=training) # batch,T,n\n",
        "        enc_h = self.lstm(enc_output) # batch,T,m\n",
        "        dec_output = self.decoder(dec_data,enc_h,h0=h0,c0=c0, training=training) # batch, 1, m+p\n",
        "        output = self.dense2(self.dense1(dec_output)) # batch, 1, 1\n",
        "        output = tf.squeeze(output) # batch\n",
        "        return output\n",
        "\n",
        "model = DARNN(T=T,m=m,p=p)"
      ],
      "execution_count": 15,
      "outputs": []
    },
    {
      "cell_type": "code",
      "metadata": {
        "id": "Ah-HfDkUJnue",
        "colab": {
          "base_uri": "https://localhost:8080/"
        },
        "outputId": "ba911f03-a866-4abc-90af-0c9896cc1482"
      },
      "source": [
        "train_ds = tf.data.Dataset.from_tensor_slices((enc_data[:train_num],dec_data[:train_num],target[:train_num])).batch(batch_size).shuffle(buffer_size=train_num).prefetch(tf.data.experimental.AUTOTUNE)\n",
        "\n",
        "@tf.function\n",
        "def train_step(model,inputs,labels,loss_fn,optimizer,train_loss):\n",
        "    with tf.GradientTape() as tape:\n",
        "        prediction = model(inputs,training=True)\n",
        "        loss = loss_fn(labels,prediction)\n",
        "    gradients = tape.gradient(loss,model.trainable_variables)\n",
        "    optimizer.apply_gradients(zip(gradients,model.trainable_variables))\n",
        "    train_loss(loss)\n",
        "\n",
        "loss_fn = tf.keras.losses.MSE\n",
        "\n",
        "optimizer = tf.keras.optimizers.Adam(0.001)\n",
        "train_loss = tf.keras.metrics.Mean(name = 'train_loss')\n",
        "\n",
        "for epoch in range(100):\n",
        "    for enc,dec,label in train_ds:\n",
        "        inputs = [enc,dec]\n",
        "        train_step(model,inputs,label,loss_fn,optimizer,train_loss)\n",
        "    \n",
        "    print(f\"epoch : {epoch+1}, train_loss : {train_loss.result()}\")\n",
        "    train_loss.reset_states()"
      ],
      "execution_count": 16,
      "outputs": [
        {
          "output_type": "stream",
          "text": [
            "epoch : 1, train_loss : 0.04356998950242996\n",
            "epoch : 2, train_loss : 0.0014143988955765963\n",
            "epoch : 3, train_loss : 0.0011122359428554773\n",
            "epoch : 4, train_loss : 0.0012830286286771297\n",
            "epoch : 5, train_loss : 0.001081587397493422\n",
            "epoch : 6, train_loss : 0.0009591356501914561\n",
            "epoch : 7, train_loss : 0.0009907803032547235\n",
            "epoch : 8, train_loss : 0.0010501658543944359\n",
            "epoch : 9, train_loss : 0.0010393843986093998\n",
            "epoch : 10, train_loss : 0.001407174626365304\n",
            "epoch : 11, train_loss : 0.001176420715637505\n",
            "epoch : 12, train_loss : 0.0010170661844313145\n",
            "epoch : 13, train_loss : 0.0011924162972718477\n",
            "epoch : 14, train_loss : 0.0011746174423024058\n",
            "epoch : 15, train_loss : 0.0009247490670531988\n",
            "epoch : 16, train_loss : 0.0009050846565514803\n",
            "epoch : 17, train_loss : 0.0009128930396400392\n",
            "epoch : 18, train_loss : 0.001129179378040135\n",
            "epoch : 19, train_loss : 0.0009015458053909242\n",
            "epoch : 20, train_loss : 0.0010074754245579243\n",
            "epoch : 21, train_loss : 0.0010672655189409852\n",
            "epoch : 22, train_loss : 0.000734314089640975\n",
            "epoch : 23, train_loss : 0.0010820426978170872\n",
            "epoch : 24, train_loss : 0.0011251160176470876\n",
            "epoch : 25, train_loss : 0.0008830116712488234\n",
            "epoch : 26, train_loss : 0.0009199270862154663\n",
            "epoch : 27, train_loss : 0.000828790885861963\n",
            "epoch : 28, train_loss : 0.0009738212684169412\n",
            "epoch : 29, train_loss : 0.000840033229906112\n",
            "epoch : 30, train_loss : 0.0007900906493887305\n",
            "epoch : 31, train_loss : 0.0010277368128299713\n",
            "epoch : 32, train_loss : 0.0013176107313483953\n",
            "epoch : 33, train_loss : 0.0008638501167297363\n",
            "epoch : 34, train_loss : 0.0007808440132066607\n",
            "epoch : 35, train_loss : 0.0011415730696171522\n",
            "epoch : 36, train_loss : 0.000840976310428232\n",
            "epoch : 37, train_loss : 0.0007225472363643348\n",
            "epoch : 38, train_loss : 0.0007967152632772923\n",
            "epoch : 39, train_loss : 0.0009587114909663796\n",
            "epoch : 40, train_loss : 0.0008397274650633335\n",
            "epoch : 41, train_loss : 0.0007158165681175888\n",
            "epoch : 42, train_loss : 0.0007889671833254397\n",
            "epoch : 43, train_loss : 0.0007532212184742093\n",
            "epoch : 44, train_loss : 0.0006990771507844329\n",
            "epoch : 45, train_loss : 0.000904797634575516\n",
            "epoch : 46, train_loss : 0.000683124759234488\n",
            "epoch : 47, train_loss : 0.0006675254553556442\n",
            "epoch : 48, train_loss : 0.0010129411239176989\n",
            "epoch : 49, train_loss : 0.0007487492403015494\n",
            "epoch : 50, train_loss : 0.0006527784280478954\n",
            "epoch : 51, train_loss : 0.0006226097466424108\n",
            "epoch : 52, train_loss : 0.0006217193440534174\n",
            "epoch : 53, train_loss : 0.0006690006121061742\n",
            "epoch : 54, train_loss : 0.0004945563268847764\n",
            "epoch : 55, train_loss : 0.0004599260864779353\n",
            "epoch : 56, train_loss : 0.0005563366576097906\n",
            "epoch : 57, train_loss : 0.0004188728635199368\n",
            "epoch : 58, train_loss : 0.0003319951065350324\n",
            "epoch : 59, train_loss : 0.0005618092254735529\n",
            "epoch : 60, train_loss : 0.000451720436103642\n",
            "epoch : 61, train_loss : 0.0005384348914958537\n",
            "epoch : 62, train_loss : 0.00034350724308751523\n",
            "epoch : 63, train_loss : 0.00036900295526720583\n",
            "epoch : 64, train_loss : 0.00025838924921117723\n",
            "epoch : 65, train_loss : 0.0002479997929185629\n",
            "epoch : 66, train_loss : 0.00028663213015533984\n",
            "epoch : 67, train_loss : 0.0003014367539435625\n",
            "epoch : 68, train_loss : 0.0003945202333852649\n",
            "epoch : 69, train_loss : 0.0003095664724241942\n",
            "epoch : 70, train_loss : 0.000190703576663509\n",
            "epoch : 71, train_loss : 0.0002657340664882213\n",
            "epoch : 72, train_loss : 0.00017738247697707266\n",
            "epoch : 73, train_loss : 0.00028846514760516584\n",
            "epoch : 74, train_loss : 0.0002931886410806328\n",
            "epoch : 75, train_loss : 0.0001943321549333632\n",
            "epoch : 76, train_loss : 0.00036195453139953315\n",
            "epoch : 77, train_loss : 0.00022076893947087228\n",
            "epoch : 78, train_loss : 0.00022526226530317217\n",
            "epoch : 79, train_loss : 0.00016649067401885986\n",
            "epoch : 80, train_loss : 0.0001888828701339662\n",
            "epoch : 81, train_loss : 0.00021625302906613797\n",
            "epoch : 82, train_loss : 0.0002773816813714802\n",
            "epoch : 83, train_loss : 0.00027206455706618726\n",
            "epoch : 84, train_loss : 0.0003506043285597116\n",
            "epoch : 85, train_loss : 0.00019253295613452792\n",
            "epoch : 86, train_loss : 0.0001957288186531514\n",
            "epoch : 87, train_loss : 0.00018828992324415594\n",
            "epoch : 88, train_loss : 0.000265967333689332\n",
            "epoch : 89, train_loss : 0.00035824324004352093\n",
            "epoch : 90, train_loss : 0.0003594912705011666\n",
            "epoch : 91, train_loss : 0.00021903803281020373\n",
            "epoch : 92, train_loss : 0.00021285875118337572\n",
            "epoch : 93, train_loss : 0.00018237419135402888\n",
            "epoch : 94, train_loss : 0.0001877496251836419\n",
            "epoch : 95, train_loss : 0.00021045310131739825\n",
            "epoch : 96, train_loss : 0.00020712892001029104\n",
            "epoch : 97, train_loss : 0.00018045447359327227\n",
            "epoch : 98, train_loss : 0.00018886139150708914\n",
            "epoch : 99, train_loss : 0.00016579031944274902\n",
            "epoch : 100, train_loss : 0.00027240716735832393\n"
          ],
          "name": "stdout"
        }
      ]
    },
    {
      "cell_type": "code",
      "metadata": {
        "id": "orcFkPeSTLb6",
        "colab": {
          "base_uri": "https://localhost:8080/"
        },
        "outputId": "45b9f639-0a90-4235-b1c5-df483b2fc731"
      },
      "source": [
        "test_ds = tf.data.Dataset.from_tensor_slices((enc_data[train_num:], dec_data[train_num:], target[train_num:])).batch(16)\n",
        "test_loss = tf.keras.metrics.Mean(name = 'test_loss')\n",
        "\n",
        "@tf.function\n",
        "def test_step(model,inputs,labels,loss_fn,test_loss):\n",
        "    prediction = model(inputs,training=True)\n",
        "    loss = loss_fn(labels,prediction)\n",
        "    test_loss(loss)\n",
        "    return prediction\n",
        "\n",
        "i=0\n",
        "for enc,dec,label in test_ds:\n",
        "    inputs = [enc,dec]\n",
        "    pred = test_step(model,inputs,label,loss_fn,test_loss)\n",
        "    if i==0:\n",
        "        preds = pred.numpy()\n",
        "        labels = label.numpy()\n",
        "        i+=1\n",
        "    else:\n",
        "        preds = np.concatenate([preds, pred.numpy()],axis=0)\n",
        "        labels = np.concatenate([labels,label.numpy()],axis=0)\n",
        "\n",
        "print(test_loss.result())"
      ],
      "execution_count": 17,
      "outputs": [
        {
          "output_type": "stream",
          "text": [
            "tf.Tensor(0.0003477933, shape=(), dtype=float32)\n"
          ],
          "name": "stdout"
        }
      ]
    },
    {
      "cell_type": "code",
      "metadata": {
        "id": "x9SqURRhfoAk"
      },
      "source": [
        "plt.rcParams[\"figure.figsize\"] = (12,12)"
      ],
      "execution_count": null,
      "outputs": []
    },
    {
      "cell_type": "code",
      "metadata": {
        "id": "ntloa6gLJ0Ge",
        "colab": {
          "base_uri": "https://localhost:8080/",
          "height": 713
        },
        "outputId": "794dd7ff-9d7d-47a9-a833-d0b91aa2c1cf"
      },
      "source": [
        "preds = np.array(preds)\n",
        "labels = np.array(labels)\n",
        "plt.scatter(preds,labels,color = 'orange')\n",
        "plt.xlabel(\"pred\")\n",
        "plt.ylabel(\"label\")\n",
        "plt.show()\n",
        "\n",
        "# 라벨 값이 회귀지만 일정한 값으로 발생"
      ],
      "execution_count": 23,
      "outputs": [
        {
          "output_type": "display_data",
          "data": {
            "image/png": "[encoded data removed]",
            "text/plain": [
              "<Figure size 864x864 with 1 Axes>"
            ]
          },
          "metadata": {
            "tags": [],
            "needs_background": "light"
          }
        }
      ]
    },
    {
      "cell_type": "code",
      "metadata": {
        "id": "8TCc5kZ6WBcm",
        "colab": {
          "base_uri": "https://localhost:8080/",
          "height": 730
        },
        "outputId": "da8a8bac-32a0-4343-81e6-ec562520a64f"
      },
      "source": [
        "enc,dec,label = next(iter(test_ds))\n",
        "inputs = [enc, dec]\n",
        "pred = model(inputs)\n",
        "\n",
        "beta = []\n",
        "\n",
        "for i in range(5):\n",
        "    beta.append(np.mean(model.decoder.beta_t[:,i,0].numpy()))  # batch, T, 1\n",
        "plt.bar(x = range(5), height=beta, color = 'orange')\n",
        "plt.title(\"Beta\")\n",
        "plt.xlabel(\"time\")\n",
        "plt.ylabel(\"prob\")\n",
        "plt.show()\n",
        "\n",
        "# 예측하고자 하는 시간과 가까울 수록 중요도가 높아야 하는데, 그렇지 못한 경향을 보임"
      ],
      "execution_count": 22,
      "outputs": [
        {
          "output_type": "display_data",
          "data": {
            "image/png": "[encoded data removed]",
            "text/plain": [
              "<Figure size 864x864 with 1 Axes>"
            ]
          },
          "metadata": {
            "tags": [],
            "needs_background": "light"
          }
        }
      ]
    },
    {
      "cell_type": "code",
      "metadata": {
        "id": "IAOL9vOdWIC2",
        "colab": {
          "base_uri": "https://localhost:8080/",
          "height": 750
        },
        "outputId": "f6a1e566-58f6-4a88-9058-6645dc018169"
      },
      "source": [
        "%matplotlib\n",
        "variables = ['x1','x2']\n",
        "alpha = []\n",
        "for i in range(2):\n",
        "    alpha.append(np.mean(model.encoder.alpha_t[:,0,i].numpy()))\n",
        "\n",
        "plt.bar(x=variables,height=alpha, color = 'orange')\n",
        "plt.title(\"alpha\")\n",
        "plt.xlabel(\"variables\")\n",
        "plt.xticks(rotation = 90)\n",
        "plt.ylabel(\"prob\")\n",
        "plt.show()\n",
        "\n",
        "# x1변수의 중요도가 더 높음"
      ],
      "execution_count": 21,
      "outputs": [
        {
          "output_type": "stream",
          "text": [
            "Using matplotlib backend: agg\n"
          ],
          "name": "stdout"
        },
        {
          "output_type": "display_data",
          "data": {
            "image/png": "[encoded data removed]",
            "text/plain": [
              "<Figure size 864x864 with 1 Axes>"
            ]
          },
          "metadata": {
            "tags": [],
            "needs_background": "light"
          }
        }
      ]
    },
    {
      "cell_type": "code",
      "metadata": {
        "id": "4LZM3svufbKm"
      },
      "source": [
        ""
      ],
      "execution_count": null,
      "outputs": []
    }
  ]
}